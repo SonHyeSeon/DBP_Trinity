{
 "cells": [
  {
   "cell_type": "code",
   "execution_count": 1,
   "metadata": {},
   "outputs": [
    {
     "name": "stdout",
     "output_type": "stream",
     "text": [
      "select Nation [US/CA/GB/FR/DE] : CA\n",
      "Language : English \n",
      "\n",
      "refine datas\n",
      "drop comments_disabled=True?[y/n] : n\n",
      "drop ratings_disabled=True?[y/n] : n\n",
      "drop video_error_or_removed=True?[y/n] : n\n",
      "drop by publish_time?[y/n] : y\n",
      "input publish_time duration\n",
      "\tstart date[yyyymmdd] : 20180101\n",
      "\tend date[yyyymmdd] : 20180630\n",
      "drop by trending_date?[y/n] : n\n",
      "\n",
      "init unique_videos\n"
     ]
    },
    {
     "data": {
      "application/vnd.jupyter.widget-view+json": {
       "model_id": "cb0bb2992a7f429a99a6d87966681b23",
       "version_major": 2,
       "version_minor": 0
      },
      "text/plain": [
       "HBox(children=(IntProgress(value=0, max=18807), HTML(value='')))"
      ]
     },
     "metadata": {},
     "output_type": "display_data"
    },
    {
     "name": "stdout",
     "output_type": "stream",
     "text": [
      "\n",
      "init stat_category\n"
     ]
    },
    {
     "data": {
      "application/vnd.jupyter.widget-view+json": {
       "model_id": "3c97b31ca3e647fcbdc97e7781ae555d",
       "version_major": 2,
       "version_minor": 0
      },
      "text/plain": [
       "HBox(children=(IntProgress(value=0, max=18), HTML(value='')))"
      ]
     },
     "metadata": {},
     "output_type": "display_data"
    },
    {
     "name": "stdout",
     "output_type": "stream",
     "text": [
      "\n"
     ]
    },
    {
     "name": "stderr",
     "output_type": "stream",
     "text": [
      "C:\\Users\\BongBong\\Desktop\\2018-2\\DBP\\DBP\\module\\predict.py:73: SettingWithCopyWarning: \n",
      "A value is trying to be set on a copy of a slice from a DataFrame\n",
      "\n",
      "See the caveats in the documentation: http://pandas.pydata.org/pandas-docs/stable/indexing.html#indexing-view-versus-copy\n",
      "  stat[method][i]=0\n"
     ]
    },
    {
     "name": "stdout",
     "output_type": "stream",
     "text": [
      "init stat_category finished\n",
      "select method\n",
      "\tselect method sum_total_views?[y/n] : y\n",
      "\t\tinput method sum_total_views weight(default=1, weight>0) : 1\n",
      "\tselect method mean_total_views?[y/n] : y\n",
      "\t\tinput method mean_total_views weight(default=1, weight>0) : 2\n",
      "\tselect method number_of_unique_videos?[y/n] : n\n",
      "\tselect method sum_trending_duration?[y/n] : n\n",
      "\tselect method mean_trending_duration?[y/n] : y\n",
      "\t\tinput method mean_trending_duration weight(default=1, weight>0) : 2\n",
      "selected method and weight is\n",
      "\t sum_total_views \t 1\n",
      "\t mean_total_views \t 2\n",
      "\t mean_trending_duration \t 2\n",
      "\n",
      "select reliability_method[1/2/3, default=1] : 2\n"
     ]
    },
    {
     "data": {
      "text/html": [
       "<div>\n",
       "<style scoped>\n",
       "    .dataframe tbody tr th:only-of-type {\n",
       "        vertical-align: middle;\n",
       "    }\n",
       "\n",
       "    .dataframe tbody tr th {\n",
       "        vertical-align: top;\n",
       "    }\n",
       "\n",
       "    .dataframe thead th {\n",
       "        text-align: right;\n",
       "    }\n",
       "</style>\n",
       "<table border=\"1\" class=\"dataframe\">\n",
       "  <thead>\n",
       "    <tr style=\"text-align: right;\">\n",
       "      <th></th>\n",
       "      <th>Category</th>\n",
       "      <th>Score</th>\n",
       "      <th>Reliability(%)</th>\n",
       "    </tr>\n",
       "    <tr>\n",
       "      <th>Rank</th>\n",
       "      <th></th>\n",
       "      <th></th>\n",
       "      <th></th>\n",
       "    </tr>\n",
       "  </thead>\n",
       "  <tbody>\n",
       "    <tr>\n",
       "      <th>1</th>\n",
       "      <td>Movies</td>\n",
       "      <td>80.024675</td>\n",
       "      <td>0.00</td>\n",
       "    </tr>\n",
       "    <tr>\n",
       "      <th>2</th>\n",
       "      <td>Music</td>\n",
       "      <td>53.518153</td>\n",
       "      <td>100.00</td>\n",
       "    </tr>\n",
       "    <tr>\n",
       "      <th>3</th>\n",
       "      <td>Entertainment</td>\n",
       "      <td>35.664756</td>\n",
       "      <td>88.24</td>\n",
       "    </tr>\n",
       "    <tr>\n",
       "      <th>4</th>\n",
       "      <td>Comedy</td>\n",
       "      <td>23.743317</td>\n",
       "      <td>44.44</td>\n",
       "    </tr>\n",
       "    <tr>\n",
       "      <th>5</th>\n",
       "      <td>Film &amp; Animation</td>\n",
       "      <td>22.657775</td>\n",
       "      <td>100.00</td>\n",
       "    </tr>\n",
       "    <tr>\n",
       "      <th>6</th>\n",
       "      <td>Science &amp; Technology</td>\n",
       "      <td>20.567011</td>\n",
       "      <td>55.56</td>\n",
       "    </tr>\n",
       "    <tr>\n",
       "      <th>7</th>\n",
       "      <td>Sports</td>\n",
       "      <td>20.437121</td>\n",
       "      <td>90.00</td>\n",
       "    </tr>\n",
       "    <tr>\n",
       "      <th>8</th>\n",
       "      <td>People &amp; Blogs</td>\n",
       "      <td>19.787867</td>\n",
       "      <td>66.67</td>\n",
       "    </tr>\n",
       "    <tr>\n",
       "      <th>9</th>\n",
       "      <td>Gaming</td>\n",
       "      <td>18.787652</td>\n",
       "      <td>64.29</td>\n",
       "    </tr>\n",
       "    <tr>\n",
       "      <th>10</th>\n",
       "      <td>Nonprofits &amp; Activism</td>\n",
       "      <td>18.005449</td>\n",
       "      <td>64.29</td>\n",
       "    </tr>\n",
       "    <tr>\n",
       "      <th>11</th>\n",
       "      <td>Howto &amp; Style</td>\n",
       "      <td>17.565667</td>\n",
       "      <td>63.64</td>\n",
       "    </tr>\n",
       "    <tr>\n",
       "      <th>12</th>\n",
       "      <td>Travel &amp; Events</td>\n",
       "      <td>16.352768</td>\n",
       "      <td>84.62</td>\n",
       "    </tr>\n",
       "    <tr>\n",
       "      <th>13</th>\n",
       "      <td>Education</td>\n",
       "      <td>15.513599</td>\n",
       "      <td>41.67</td>\n",
       "    </tr>\n",
       "    <tr>\n",
       "      <th>14</th>\n",
       "      <td>Pets &amp; Animals</td>\n",
       "      <td>15.316277</td>\n",
       "      <td>91.67</td>\n",
       "    </tr>\n",
       "    <tr>\n",
       "      <th>15</th>\n",
       "      <td>News &amp; Politics</td>\n",
       "      <td>15.022018</td>\n",
       "      <td>60.00</td>\n",
       "    </tr>\n",
       "    <tr>\n",
       "      <th>16</th>\n",
       "      <td>Autos &amp; Vehicles</td>\n",
       "      <td>13.105263</td>\n",
       "      <td>63.64</td>\n",
       "    </tr>\n",
       "    <tr>\n",
       "      <th>17</th>\n",
       "      <td>Shows</td>\n",
       "      <td>12.249481</td>\n",
       "      <td>93.33</td>\n",
       "    </tr>\n",
       "    <tr>\n",
       "      <th>18</th>\n",
       "      <td>Trailers</td>\n",
       "      <td>0.000000</td>\n",
       "      <td>100.00</td>\n",
       "    </tr>\n",
       "  </tbody>\n",
       "</table>\n",
       "</div>"
      ],
      "text/plain": [
       "                   Category      Score  Reliability(%)\n",
       "Rank                                                  \n",
       "1                    Movies  80.024675            0.00\n",
       "2                     Music  53.518153          100.00\n",
       "3             Entertainment  35.664756           88.24\n",
       "4                    Comedy  23.743317           44.44\n",
       "5          Film & Animation  22.657775          100.00\n",
       "6      Science & Technology  20.567011           55.56\n",
       "7                    Sports  20.437121           90.00\n",
       "8            People & Blogs  19.787867           66.67\n",
       "9                    Gaming  18.787652           64.29\n",
       "10    Nonprofits & Activism  18.005449           64.29\n",
       "11            Howto & Style  17.565667           63.64\n",
       "12          Travel & Events  16.352768           84.62\n",
       "13                Education  15.513599           41.67\n",
       "14           Pets & Animals  15.316277           91.67\n",
       "15          News & Politics  15.022018           60.00\n",
       "16         Autos & Vehicles  13.105263           63.64\n",
       "17                    Shows  12.249481           93.33\n",
       "18                 Trailers   0.000000          100.00"
      ]
     },
     "execution_count": 1,
     "metadata": {},
     "output_type": "execute_result"
    }
   ],
   "source": [
    "import trending_youtube_category as tyc\n",
    "result = tyc.category_rank()\n",
    "result"
   ]
  },
  {
   "cell_type": "code",
   "execution_count": null,
   "metadata": {},
   "outputs": [],
   "source": []
  }
 ],
 "metadata": {
  "kernelspec": {
   "display_name": "Python 3",
   "language": "python",
   "name": "python3"
  },
  "language_info": {
   "codemirror_mode": {
    "name": "ipython",
    "version": 3
   },
   "file_extension": ".py",
   "mimetype": "text/x-python",
   "name": "python",
   "nbconvert_exporter": "python",
   "pygments_lexer": "ipython3",
   "version": "3.6.5"
  }
 },
 "nbformat": 4,
 "nbformat_minor": 2
}
