{
 "cells": [
  {
   "cell_type": "code",
   "execution_count": 1,
   "metadata": {},
   "outputs": [],
   "source": [
    "import sys, os\n",
    "sys.path.append(os.pardir)\n",
    "import module.refinement as rm\n",
    "import module.result as rs\n",
    "import pandas as pd\n",
    "import numpy as np\n",
    "import datetime as dt\n",
    "import module.category as cg\n",
    "\n",
    "# read data from csv file\n",
    "videos= pd.read_csv('../youtube-new/FRvideos.csv')\n",
    "language = 'French'\n",
    "nation='FR'"
   ]
  },
  {
   "cell_type": "code",
   "execution_count": null,
   "metadata": {},
   "outputs": [],
   "source": [
    "type(videos['publish_time'][0])"
   ]
  },
  {
   "cell_type": "code",
   "execution_count": 2,
   "metadata": {},
   "outputs": [],
   "source": [
    "rm.retypeDate(videos)"
   ]
  },
  {
   "cell_type": "code",
   "execution_count": null,
   "metadata": {},
   "outputs": [],
   "source": [
    "type(videos['publish_time'][0])"
   ]
  },
  {
   "cell_type": "code",
   "execution_count": null,
   "metadata": {},
   "outputs": [],
   "source": [
    "videos.columns"
   ]
  },
  {
   "cell_type": "markdown",
   "metadata": {},
   "source": [
    "# refinement"
   ]
  },
  {
   "cell_type": "code",
   "execution_count": null,
   "metadata": {},
   "outputs": [],
   "source": [
    "len(videos)"
   ]
  },
  {
   "cell_type": "code",
   "execution_count": null,
   "metadata": {},
   "outputs": [],
   "source": [
    "videos.columns"
   ]
  },
  {
   "cell_type": "code",
   "execution_count": null,
   "metadata": {},
   "outputs": [],
   "source": [
    "min_publish_time = min(videos['publish_time'])\n",
    "max_publish_time = max(videos['publish_time'])\n",
    "print(min_publish_time)\n",
    "print(max_publish_time)"
   ]
  },
  {
   "cell_type": "code",
   "execution_count": null,
   "metadata": {},
   "outputs": [],
   "source": [
    "min_trending_date = min(videos['trending_date'])\n",
    "max_trending_date = max(videos['trending_date'])\n",
    "print(min_trending_date)\n",
    "print(max_trending_date)"
   ]
  },
  {
   "cell_type": "code",
   "execution_count": null,
   "metadata": {},
   "outputs": [],
   "source": [
    "rm.dropRows_dates(videos, 'publish_time',min_trending_date, max_publish_time)"
   ]
  },
  {
   "cell_type": "code",
   "execution_count": null,
   "metadata": {},
   "outputs": [],
   "source": [
    "min_publish_time = min(videos['publish_time'])\n",
    "max_publish_time = max(videos['publish_time'])\n",
    "print(min_publish_time)\n",
    "print(max_publish_time)"
   ]
  },
  {
   "cell_type": "code",
   "execution_count": null,
   "metadata": {},
   "outputs": [],
   "source": [
    "min_trending_date = min(videos['trending_date'])\n",
    "max_trending_date = max(videos['trending_date'])\n",
    "print(min_trending_date)\n",
    "print(max_trending_date)"
   ]
  },
  {
   "cell_type": "code",
   "execution_count": null,
   "metadata": {},
   "outputs": [],
   "source": [
    "len(videos)"
   ]
  },
  {
   "cell_type": "markdown",
   "metadata": {},
   "source": [
    "# predict"
   ]
  },
  {
   "cell_type": "code",
   "execution_count": null,
   "metadata": {},
   "outputs": [],
   "source": [
    "predict_data = cg.info_category()\n",
    "predict_data"
   ]
  },
  {
   "cell_type": "code",
   "execution_count": null,
   "metadata": {},
   "outputs": [],
   "source": [
    "predict_data.index[0]"
   ]
  },
  {
   "cell_type": "code",
   "execution_count": null,
   "metadata": {},
   "outputs": [],
   "source": [
    "len(predict_data.index)"
   ]
  },
  {
   "cell_type": "code",
   "execution_count": null,
   "metadata": {},
   "outputs": [],
   "source": [
    "predict_data.index[17]"
   ]
  },
  {
   "cell_type": "code",
   "execution_count": null,
   "metadata": {},
   "outputs": [],
   "source": [
    "(videos['category_id']).value_counts()"
   ]
  },
  {
   "cell_type": "code",
   "execution_count": null,
   "metadata": {},
   "outputs": [],
   "source": [
    "videos.sort_values(by=['publish_time', 'video_id', 'trending_date'])"
   ]
  },
  {
   "cell_type": "code",
   "execution_count": null,
   "metadata": {},
   "outputs": [],
   "source": [
    "len(np.unique(videos['video_id']))"
   ]
  },
  {
   "cell_type": "code",
   "execution_count": null,
   "metadata": {},
   "outputs": [],
   "source": [
    "counts_by_video_id = videos['video_id'].value_counts()\n",
    "print(type(counts_by_video_id))\n",
    "# counts_by_video_id"
   ]
  },
  {
   "cell_type": "code",
   "execution_count": null,
   "metadata": {},
   "outputs": [],
   "source": [
    "df_counts = pd.DataFrame((counts_by_video_id).value_counts())\n",
    "df_counts"
   ]
  },
  {
   "cell_type": "code",
   "execution_count": null,
   "metadata": {},
   "outputs": [],
   "source": [
    "df_counts['count'] = df_counts.index*df_counts['video_id']\n",
    "df_counts"
   ]
  },
  {
   "cell_type": "code",
   "execution_count": null,
   "metadata": {},
   "outputs": [],
   "source": [
    "print('총 비디오 데이터 수',sum(df_counts['count']))\n",
    "sum(df_counts['count']) == len(videos)"
   ]
  },
  {
   "cell_type": "code",
   "execution_count": null,
   "metadata": {},
   "outputs": [],
   "source": [
    "print('총 비디오 수',sum(df_counts['video_id']))\n",
    "sum(df_counts['video_id']) == len(np.unique(videos['video_id']))"
   ]
  },
  {
   "cell_type": "code",
   "execution_count": null,
   "metadata": {},
   "outputs": [],
   "source": [
    "len(videos[videos['trending_date']==videos['publish_time']])"
   ]
  },
  {
   "cell_type": "code",
   "execution_count": null,
   "metadata": {},
   "outputs": [],
   "source": [
    "tmp = (videos[videos['trending_date']==videos['publish_time']])\n",
    "tmp.reset_index(inplace=True, drop=True)\n",
    "tmp"
   ]
  },
  {
   "cell_type": "code",
   "execution_count": null,
   "metadata": {},
   "outputs": [],
   "source": [
    "tmp.index # index : 0~943"
   ]
  },
  {
   "cell_type": "code",
   "execution_count": null,
   "metadata": {},
   "outputs": [],
   "source": [
    "tmp.loc[943] # last data"
   ]
  },
  {
   "cell_type": "code",
   "execution_count": null,
   "metadata": {},
   "outputs": [],
   "source": [
    "len(tmp)"
   ]
  },
  {
   "cell_type": "markdown",
   "metadata": {},
   "source": [
    "# 모델링 - video의 총 누적 view의 평균"
   ]
  },
  {
   "cell_type": "code",
   "execution_count": null,
   "metadata": {},
   "outputs": [],
   "source": [
    "len(videos)"
   ]
  },
  {
   "cell_type": "code",
   "execution_count": null,
   "metadata": {},
   "outputs": [],
   "source": [
    "len(np.unique(videos['video_id']))"
   ]
  },
  {
   "cell_type": "code",
   "execution_count": null,
   "metadata": {},
   "outputs": [],
   "source": [
    "videos_view = pd.DataFrame(np.unique(videos['video_id']), columns=['video_id'])\n",
    "videos_view.head(3)"
   ]
  },
  {
   "cell_type": "code",
   "execution_count": null,
   "metadata": {},
   "outputs": [],
   "source": [
    "(videos.groupby('video_id')).getmax()"
   ]
  },
  {
   "cell_type": "code",
   "execution_count": null,
   "metadata": {},
   "outputs": [],
   "source": [
    "# n = len(videos_view)\n",
    "# print(n)\n",
    "# category_id = []\n",
    "# total_views=[]\n",
    "# trending_dates = []\n",
    "# publish_time = []\n",
    "# last_trending_date = []\n",
    "# for i in range(n):\n",
    "# #     print(i)\n",
    "#     videos_by_video_id = videos[videos['video_id']==videos_view['video_id'][i]]\n",
    "#     category_id.append(videos_by_video_id['category_id'].values[0])\n",
    "#     total_views.append(max(videos_by_video_id['views']))\n",
    "#     trending_dates.append(len(videos_by_video_id))\n",
    "#     publish_time.append((videos_by_video_id['publish_time'].values[0]))\n",
    "#     last_trending_date.append(max(videos_by_video_id['trending_date']))\n",
    "# videos_view['category_id'] = category_id\n",
    "# videos_view['total_views'] = total_views\n",
    "# videos_view['trending_dates'] = trending_dates\n",
    "# videos_view['publish_time'] = publish_time\n",
    "# videos_view['last_trending_date'] = last_trending_date\n",
    "\n",
    "# videos_view"
   ]
  },
  {
   "cell_type": "code",
   "execution_count": null,
   "metadata": {},
   "outputs": [],
   "source": [
    "videos_view['days'] = videos_view['last_trending_date'] - videos_view['publish_time'] + dt.timedelta(1)\n",
    "videos_view"
   ]
  },
  {
   "cell_type": "code",
   "execution_count": null,
   "metadata": {},
   "outputs": [],
   "source": [
    "result_data = cg.info_category()\n",
    "result_data"
   ]
  },
  {
   "cell_type": "code",
   "execution_count": null,
   "metadata": {},
   "outputs": [],
   "source": [
    "stats = pd.DataFrame([], index=result_data.index)\n",
    "stats"
   ]
  },
  {
   "cell_type": "code",
   "execution_count": null,
   "metadata": {},
   "outputs": [],
   "source": [
    "sum_views=[]\n",
    "count_videos=[]\n",
    "mean_views=[]\n",
    "sum_trending_dates=[]\n",
    "for i in result_data.index:\n",
    "    video = videos_view[videos_view['category_id']==i]\n",
    "    sum_views.append(sum(video['total_views']))\n",
    "    count_videos.append(len(video))\n",
    "    mean_views.append(np.mean(video['total_views']))\n",
    "    sum_trending_dates.append(sum(video['trending_dates']))\n",
    "stats['mean_views'] = mean_views\n",
    "stats['sum_views'] = sum_views\n",
    "stats['count_videos'] = count_videos\n",
    "stats['sum_trending_dates'] = sum_trending_dates\n",
    "stats"
   ]
  },
  {
   "cell_type": "code",
   "execution_count": null,
   "metadata": {},
   "outputs": [],
   "source": [
    "result_data_by_sum_views = cg.info_category()\n",
    "result_data_by_sum_views['sum_views'] = stats['sum_views']\n",
    "result_data_by_sum_views['rank'] = (result_data_sum_views['sum_views'].rank(ascending=False)).astype(int)\n",
    "result_data_by_sum_views"
   ]
  },
  {
   "cell_type": "code",
   "execution_count": null,
   "metadata": {},
   "outputs": [],
   "source": [
    "rs.calc(result_data_by_sum_views, 'rank',cg.kedooRank(language),language,2)\n",
    "result_data_by_sum_views"
   ]
  },
  {
   "cell_type": "code",
   "execution_count": null,
   "metadata": {},
   "outputs": [],
   "source": [
    "result_data_by_sum_views = rs.resultType(result_data_by_sum_views, 'rank','category_TITLE','sum_views','reliability')"
   ]
  },
  {
   "cell_type": "code",
   "execution_count": null,
   "metadata": {},
   "outputs": [],
   "source": [
    "print(\"국가 :\",nation, \", 언어 :\",language)\n",
    "print(\"analysis by sum_views, reliability_2\")\n",
    "print(\"전체 신뢰성 :\",round(np.mean(result_data_by_sum_views['Reliability(%)']),2),\"(%)\")\n",
    "result_data_by_sum_views"
   ]
  },
  {
   "cell_type": "code",
   "execution_count": null,
   "metadata": {},
   "outputs": [],
   "source": [
    "np.mean(result_data_by_sum_views['Reliability(%)'])"
   ]
  },
  {
   "cell_type": "code",
   "execution_count": null,
   "metadata": {},
   "outputs": [],
   "source": [
    "result_data_by_mean_views = cg.info_category()\n",
    "result_data_by_mean_views['mean_views'] = stats['mean_views']\n",
    "result_data_by_mean_views['rank'] = (result_data_mean_views['mean_views'].rank(ascending=False)).astype(int)\n",
    "result_data_by_mean_views"
   ]
  },
  {
   "cell_type": "code",
   "execution_count": null,
   "metadata": {},
   "outputs": [],
   "source": [
    "rs.calc(result_data_by_mean_views, 'rank',cg.kedooRank(language),language,2)\n",
    "result_data_by_mean_views"
   ]
  },
  {
   "cell_type": "code",
   "execution_count": null,
   "metadata": {},
   "outputs": [],
   "source": [
    "result_data_by_mean_views = rs.resultType(result_data_by_mean_views, 'rank','category_TITLE','mean_views','reliability_2')"
   ]
  },
  {
   "cell_type": "code",
   "execution_count": null,
   "metadata": {},
   "outputs": [],
   "source": [
    "print(\"국가 :\",nation, \", 언어 :\",language)\n",
    "print(\"analysis by mean_views, reliability_2\")\n",
    "print(\"전체 신뢰성 :\",round(np.mean(result_data_by_mean_views['Reliability(%)']),2),\"(%)\")\n",
    "result_data_by_mean_views"
   ]
  },
  {
   "cell_type": "code",
   "execution_count": null,
   "metadata": {},
   "outputs": [],
   "source": [
    "result_data_by_count_videos = cg.info_category()\n",
    "result_data_by_count_videos['count_videos'] = stats['count_videos']\n",
    "result_data_by_count_videos['rank'] = (result_data_count_videos['count_videos'].rank(ascending=False)).astype(int)\n",
    "result_data_by_count_videos"
   ]
  },
  {
   "cell_type": "code",
   "execution_count": null,
   "metadata": {},
   "outputs": [],
   "source": [
    "result_data_by_count_videos = result_data_by_count_videos.sort_values(by='category_ID')\n",
    "rs.calc(result_data_by_count_videos, 'rank',cg.kedooRank(language),language,2)\n",
    "result_data_by_count_videos"
   ]
  },
  {
   "cell_type": "code",
   "execution_count": null,
   "metadata": {},
   "outputs": [],
   "source": [
    "result_data_by_count_videos = rs.resultType(result_data_by_count_videos, 'rank','category_TITLE','count_videos','reliability_2')"
   ]
  },
  {
   "cell_type": "code",
   "execution_count": null,
   "metadata": {},
   "outputs": [],
   "source": [
    "print(\"국가 :\",nation, \", 언어 :\",language)\n",
    "print(\"analysis by count_videos, reliability_2\")\n",
    "print(\"전체 신뢰성 :\",round(np.mean(result_data_by_count_videos['Reliability(%)']),2),\"(%)\")\n",
    "result_data_by_count_videos"
   ]
  },
  {
   "cell_type": "code",
   "execution_count": null,
   "metadata": {},
   "outputs": [],
   "source": [
    "result_data_by_sum_trending_dates = cg.info_category()\n",
    "result_data_by_sum_trending_dates['sum_trending_dates'] = stats['sum_trending_dates']\n",
    "result_data_by_sum_trending_dates['rank'] = (result_data_sum_trending_dates['sum_trending_dates'].rank(ascending=False)).astype(int)\n",
    "result_data_by_sum_trending_dates"
   ]
  },
  {
   "cell_type": "code",
   "execution_count": null,
   "metadata": {},
   "outputs": [],
   "source": [
    "rs.calc(result_data_by_sum_trending_dates, 'rank',cg.kedooRank(language),language,2)\n",
    "result_data_by_sum_trending_dates"
   ]
  },
  {
   "cell_type": "code",
   "execution_count": null,
   "metadata": {},
   "outputs": [],
   "source": [
    "result_data_by_sum_trending_dates = rs.resultType(result_data_by_sum_trending_dates, 'rank','category_TITLE','sum_trending_dates','reliability_2')"
   ]
  },
  {
   "cell_type": "code",
   "execution_count": null,
   "metadata": {},
   "outputs": [],
   "source": [
    "print(\"국가 :\",nation, \", 언어 :\",language)\n",
    "print(\"analysis by sum_trending_dates, reliability_2\")\n",
    "print(\"전체 신뢰성 :\",round(np.mean(result_data_by_sum_trending_dates['Reliability(%)']),2),\"(%)\")\n",
    "result_data_by_sum_trending_dates"
   ]
  },
  {
   "cell_type": "code",
   "execution_count": null,
   "metadata": {},
   "outputs": [],
   "source": []
  }
 ],
 "metadata": {
  "kernelspec": {
   "display_name": "Python 3",
   "language": "python",
   "name": "python3"
  },
  "language_info": {
   "codemirror_mode": {
    "name": "ipython",
    "version": 3
   },
   "file_extension": ".py",
   "mimetype": "text/x-python",
   "name": "python",
   "nbconvert_exporter": "python",
   "pygments_lexer": "ipython3",
   "version": "3.6.5"
  }
 },
 "nbformat": 4,
 "nbformat_minor": 2
}
