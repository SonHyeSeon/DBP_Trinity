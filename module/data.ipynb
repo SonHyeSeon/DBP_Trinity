{
 "cells": [
  {
   "cell_type": "code",
   "execution_count": 1,
   "metadata": {},
   "outputs": [
    {
     "data": {
      "text/plain": [
       "pandas.core.frame.DataFrame"
      ]
     },
     "execution_count": 1,
     "metadata": {},
     "output_type": "execute_result"
    }
   ],
   "source": [
    "import pandas as pd\n",
    "import numpy as np\n",
    "import datetime as dt\n",
    "videos= pd.read_csv('../youtube-new/FRvideos.csv')\n",
    "type(videos)"
   ]
  },
  {
   "cell_type": "markdown",
   "metadata": {},
   "source": [
    "# retypeDate : publish_time, trending_date"
   ]
  },
  {
   "cell_type": "code",
   "execution_count": 21,
   "metadata": {},
   "outputs": [],
   "source": [
    "def retypeDate(videos):\n",
    "    if type(videos['publish_time'][0]) == str:\n",
    "        new_publish_time = []\n",
    "        for item in videos['publish_time']:\n",
    "            new_publish_time.append(dt.date(int(item[0:4]),int(item[5:7]),int(item[8:10])))\n",
    "        videos.update(pd.DataFrame({'publish_time': new_publish_time}))\n",
    "    if type(videos['trending_date'][0]) == str:\n",
    "        new_trending_date=[]\n",
    "        for item in videos['trending_date']:\n",
    "            new_trending_date.append(dt.date(2000 + int(item[0:2]),int(item[6:8]),int(item[3:5])))\n",
    "        videos.update(pd.DataFrame({'trending_date': new_trending_date}))"
   ]
  },
  {
   "cell_type": "code",
   "execution_count": null,
   "metadata": {},
   "outputs": [],
   "source": [
    "type(videos['publish_time'][0])"
   ]
  },
  {
   "cell_type": "code",
   "execution_count": null,
   "metadata": {},
   "outputs": [],
   "source": [
    "type(videos['trending_date'][0])"
   ]
  },
  {
   "cell_type": "code",
   "execution_count": null,
   "metadata": {},
   "outputs": [],
   "source": [
    "videos['publish_time'][0]"
   ]
  },
  {
   "cell_type": "code",
   "execution_count": null,
   "metadata": {},
   "outputs": [],
   "source": [
    "videos['trending_date'][0]"
   ]
  },
  {
   "cell_type": "code",
   "execution_count": null,
   "metadata": {},
   "outputs": [],
   "source": [
    "retypeDate(videos)"
   ]
  },
  {
   "cell_type": "code",
   "execution_count": null,
   "metadata": {},
   "outputs": [],
   "source": [
    "type(videos['publish_time'][0])"
   ]
  },
  {
   "cell_type": "code",
   "execution_count": null,
   "metadata": {},
   "outputs": [],
   "source": [
    "type(videos['trending_date'][0])"
   ]
  },
  {
   "cell_type": "code",
   "execution_count": null,
   "metadata": {},
   "outputs": [],
   "source": [
    "videos['publish_time'][0]"
   ]
  },
  {
   "cell_type": "code",
   "execution_count": null,
   "metadata": {},
   "outputs": [],
   "source": [
    "videos['trending_date'][0]"
   ]
  },
  {
   "cell_type": "markdown",
   "metadata": {},
   "source": [
    "# 행 삭제"
   ]
  },
  {
   "cell_type": "code",
   "execution_count": null,
   "metadata": {},
   "outputs": [],
   "source": [
    "def dropRows_disabled(videos, column):\n",
    "    if column in videos.columns:\n",
    "        find = videos[videos[column] == True]\n",
    "        drop = videos[videos['video_id'].isin(find['video_id'])]\n",
    "        videos.drop(drop.index, inplace=True)\n",
    "        videos.reset_index(inplace=True, drop=True)\n",
    "    del videos[column]"
   ]
  },
  {
   "cell_type": "code",
   "execution_count": null,
   "metadata": {},
   "outputs": [],
   "source": [
    "print(videos['comments_disabled'].value_counts())\n",
    "print(len(videos))\n",
    "dropRows_comments_disabled(videos)\n",
    "print(videos['comments_disabled'].value_counts())\n",
    "print(len(videos))"
   ]
  },
  {
   "cell_type": "code",
   "execution_count": null,
   "metadata": {},
   "outputs": [],
   "source": [
    "print(videos['ratings_disabled'].value_counts())\n",
    "print(len(videos))\n",
    "dropRows_ratings_disabled(videos)\n",
    "print(videos['ratings_disabled'].value_counts())\n",
    "print(len(videos))"
   ]
  },
  {
   "cell_type": "code",
   "execution_count": null,
   "metadata": {},
   "outputs": [],
   "source": [
    "print(videos['video_error_or_removed'].value_counts())\n",
    "print(len(videos))\n",
    "dropRows_video_error_or_removed(videos)\n",
    "print(videos['video_error_or_removed'].value_counts())\n",
    "print(len(videos))"
   ]
  },
  {
   "cell_type": "markdown",
   "metadata": {},
   "source": [
    "# 열 삭제"
   ]
  },
  {
   "cell_type": "code",
   "execution_count": null,
   "metadata": {},
   "outputs": [],
   "source": [
    "def dropColumns(videos):\n",
    "    if 'tags' in videos.columns:\n",
    "        del videos['tags']\n",
    "    if 'description' in videos.columns:\n",
    "        del videos['description']"
   ]
  },
  {
   "cell_type": "code",
   "execution_count": null,
   "metadata": {},
   "outputs": [],
   "source": [
    "len(videos[videos['comments_disabled']])"
   ]
  },
  {
   "cell_type": "code",
   "execution_count": null,
   "metadata": {},
   "outputs": [],
   "source": [
    "videos.columns"
   ]
  },
  {
   "cell_type": "code",
   "execution_count": null,
   "metadata": {},
   "outputs": [],
   "source": [
    "dropColumns(videos)"
   ]
  },
  {
   "cell_type": "code",
   "execution_count": null,
   "metadata": {},
   "outputs": [],
   "source": [
    "videos.columns"
   ]
  },
  {
   "cell_type": "markdown",
   "metadata": {},
   "source": [
    "# publish_time 오래된 비디오 삭제"
   ]
  },
  {
   "cell_type": "code",
   "execution_count": 12,
   "metadata": {},
   "outputs": [],
   "source": [
    "def dropRows_dates(videos, column, start, end):\n",
    "    # column : publish_time\n",
    "    # start, end : datetime.date(yyyy, mm, dd)\n",
    "    if type(videos[column][0]) == dt.date:\n",
    "        old = videos[videos[column]<start]\n",
    "        young = videos[videos[column]>end]\n",
    "        videos.drop(old.index, inplace=True)\n",
    "        videos.drop(young.index, inplace=True)\n",
    "\n",
    "        videos.reset_index(inplace=True, drop=True)\n",
    "    else:\n",
    "        print('videos[column]이 datetime.date 형식이 아님')"
   ]
  },
  {
   "cell_type": "code",
   "execution_count": 13,
   "metadata": {},
   "outputs": [
    {
     "data": {
      "text/plain": [
       "'2009-03-22T19:58:05.000Z'"
      ]
     },
     "execution_count": 13,
     "metadata": {},
     "output_type": "execute_result"
    }
   ],
   "source": [
    "min(videos['publish_time'])"
   ]
  },
  {
   "cell_type": "code",
   "execution_count": 14,
   "metadata": {},
   "outputs": [
    {
     "data": {
      "text/plain": [
       "'2018-06-14T01:12:21.000Z'"
      ]
     },
     "execution_count": 14,
     "metadata": {},
     "output_type": "execute_result"
    }
   ],
   "source": [
    "max(videos['publish_time'])"
   ]
  },
  {
   "cell_type": "code",
   "execution_count": 15,
   "metadata": {},
   "outputs": [
    {
     "name": "stdout",
     "output_type": "stream",
     "text": [
      "17.01.12\n",
      "18.31.05\n"
     ]
    }
   ],
   "source": [
    "min_trending_date = min(videos['trending_date'])\n",
    "max_trending_date = max(videos['trending_date'])\n",
    "print(min_trending_date)\n",
    "print(max_trending_date)"
   ]
  },
  {
   "cell_type": "code",
   "execution_count": 16,
   "metadata": {},
   "outputs": [
    {
     "name": "stdout",
     "output_type": "stream",
     "text": [
      "videos[column]이 datetime.date 형식이 아님\n"
     ]
    }
   ],
   "source": [
    "dropRows_dates(videos, 'publish_time', min_trending_date, max_trending_date)"
   ]
  },
  {
   "cell_type": "code",
   "execution_count": 17,
   "metadata": {},
   "outputs": [
    {
     "data": {
      "text/plain": [
       "'2009-03-22T19:58:05.000Z'"
      ]
     },
     "execution_count": 17,
     "metadata": {},
     "output_type": "execute_result"
    }
   ],
   "source": [
    "min(videos['publish_time'])"
   ]
  },
  {
   "cell_type": "code",
   "execution_count": 18,
   "metadata": {},
   "outputs": [
    {
     "data": {
      "text/plain": [
       "'2018-06-14T01:12:21.000Z'"
      ]
     },
     "execution_count": 18,
     "metadata": {},
     "output_type": "execute_result"
    }
   ],
   "source": [
    "max(videos['publish_time'])"
   ]
  },
  {
   "cell_type": "code",
   "execution_count": 19,
   "metadata": {},
   "outputs": [
    {
     "name": "stdout",
     "output_type": "stream",
     "text": [
      "17.01.12\n",
      "18.31.05\n"
     ]
    }
   ],
   "source": [
    "min_trending_date = min(videos['trending_date'])\n",
    "max_trending_date = max(videos['trending_date'])\n",
    "print(min_trending_date)\n",
    "print(max_trending_date)"
   ]
  },
  {
   "cell_type": "code",
   "execution_count": 20,
   "metadata": {},
   "outputs": [
    {
     "data": {
      "text/plain": [
       "False"
      ]
     },
     "execution_count": 20,
     "metadata": {},
     "output_type": "execute_result"
    }
   ],
   "source": [
    "type(videos['publish_time'][0]) == dt.date"
   ]
  },
  {
   "cell_type": "code",
   "execution_count": 11,
   "metadata": {},
   "outputs": [
    {
     "data": {
      "text/plain": [
       "pandas.core.series.Series"
      ]
     },
     "execution_count": 11,
     "metadata": {},
     "output_type": "execute_result"
    }
   ],
   "source": [
    "type(videos['publish_time'])"
   ]
  }
 ],
 "metadata": {
  "kernelspec": {
   "display_name": "Python 3",
   "language": "python",
   "name": "python3"
  },
  "language_info": {
   "codemirror_mode": {
    "name": "ipython",
    "version": 3
   },
   "file_extension": ".py",
   "mimetype": "text/x-python",
   "name": "python",
   "nbconvert_exporter": "python",
   "pygments_lexer": "ipython3",
   "version": "3.6.5"
  }
 },
 "nbformat": 4,
 "nbformat_minor": 2
}
