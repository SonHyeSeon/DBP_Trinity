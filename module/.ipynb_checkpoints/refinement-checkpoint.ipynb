{
 "cells": [
  {
   "cell_type": "code",
   "execution_count": 1,
   "metadata": {},
   "outputs": [
    {
     "ename": "SyntaxError",
     "evalue": "invalid syntax (refinement.py, line 9)",
     "output_type": "error",
     "traceback": [
      "Traceback \u001b[1;36m(most recent call last)\u001b[0m:\n",
      "  File \u001b[0;32m\"C:\\Users\\BongBong\\Anaconda3\\lib\\site-packages\\IPython\\core\\interactiveshell.py\"\u001b[0m, line \u001b[0;32m2963\u001b[0m, in \u001b[0;35mrun_code\u001b[0m\n    exec(code_obj, self.user_global_ns, self.user_ns)\n",
      "\u001b[1;36m  File \u001b[1;32m\"<ipython-input-1-b7ee57a6fd8a>\"\u001b[1;36m, line \u001b[1;32m4\u001b[1;36m, in \u001b[1;35m<module>\u001b[1;36m\u001b[0m\n\u001b[1;33m    import refinement as refinement\u001b[0m\n",
      "\u001b[1;36m  File \u001b[1;32m\"C:\\Users\\BongBong\\Desktop\\2018-2\\DBP\\DBP\\module\\refinement.py\"\u001b[1;36m, line \u001b[1;32m9\u001b[0m\n\u001b[1;33m    if type(videos['trending_date'][0]) == str:\u001b[0m\n\u001b[1;37m                                              ^\u001b[0m\n\u001b[1;31mSyntaxError\u001b[0m\u001b[1;31m:\u001b[0m invalid syntax\n"
     ]
    }
   ],
   "source": [
    "import pandas as pd\n",
    "import numpy as np\n",
    "import datetime as dt\n",
    "import refinement as refinement\n",
    "import matplotlib.pyplot as plt\n",
    "import seaborn as sns\n",
    "videos= pd.read_csv('../youtube-new/USvideos.csv')\n",
    "print('초기 data 수', len(videos))"
   ]
  },
  {
   "cell_type": "markdown",
   "metadata": {},
   "source": [
    "# 형변환"
   ]
  },
  {
   "cell_type": "markdown",
   "metadata": {},
   "source": [
    "## retypeDate(videos)\n",
    "#### videos의 'publish_time'과 'trending_date'를 datetime.date()형태로 바꿔줌"
   ]
  },
  {
   "cell_type": "code",
   "execution_count": null,
   "metadata": {},
   "outputs": [],
   "source": [
    "print(videos['publish_time'][0])\n",
    "print(type(videos['publish_time'][0]))\n",
    "print(videos['trending_date'][0])\n",
    "print(type(videos['trending_date'][0]))"
   ]
  },
  {
   "cell_type": "code",
   "execution_count": null,
   "metadata": {},
   "outputs": [],
   "source": [
    " videos['publish_time'] = (pd.to_datetime(videos['publish_time'], \n",
    "                                                format='%Y-%m-%dT%H:%M:%S.%fZ')).dt.date"
   ]
  },
  {
   "cell_type": "code",
   "execution_count": null,
   "metadata": {},
   "outputs": [],
   "source": [
    "print(videos['publish_time'][0])\n",
    "print(type(videos['publish_time'][0]))"
   ]
  },
  {
   "cell_type": "code",
   "execution_count": null,
   "metadata": {},
   "outputs": [],
   "source": [
    "videos['publish_time']=videos['publish_time'].dt.date"
   ]
  },
  {
   "cell_type": "code",
   "execution_count": null,
   "metadata": {},
   "outputs": [],
   "source": [
    "refinement.retypeDate(videos)"
   ]
  },
  {
   "cell_type": "code",
   "execution_count": null,
   "metadata": {
    "scrolled": true
   },
   "outputs": [],
   "source": [
    "print(videos['publish_time'][0])\n",
    "print(type(videos['publish_time'][0]))\n",
    "print(videos['trending_date'][0])\n",
    "print(type(videos['trending_date'][0]))"
   ]
  },
  {
   "cell_type": "markdown",
   "metadata": {},
   "source": [
    "# 중복 제거"
   ]
  },
  {
   "cell_type": "code",
   "execution_count": null,
   "metadata": {},
   "outputs": [],
   "source": [
    "(videos.duplicated()).value_counts()"
   ]
  },
  {
   "cell_type": "code",
   "execution_count": null,
   "metadata": {},
   "outputs": [],
   "source": [
    "videos[videos['video_id']=='j4KvrAUjn6c'].sort_values(by='trending_date')"
   ]
  },
  {
   "cell_type": "code",
   "execution_count": null,
   "metadata": {},
   "outputs": [],
   "source": [
    "videos.iloc[34752] == videos.iloc[34901]"
   ]
  },
  {
   "cell_type": "code",
   "execution_count": null,
   "metadata": {},
   "outputs": [],
   "source": [
    "videos.iloc[34752]"
   ]
  },
  {
   "cell_type": "code",
   "execution_count": null,
   "metadata": {},
   "outputs": [],
   "source": [
    "refinement.dropRows_duplicated(videos)"
   ]
  },
  {
   "cell_type": "code",
   "execution_count": null,
   "metadata": {},
   "outputs": [],
   "source": [
    "(videos.duplicated()).value_counts()"
   ]
  },
  {
   "cell_type": "code",
   "execution_count": null,
   "metadata": {},
   "outputs": [],
   "source": [
    "videos['trending_date'][0] == dt.datetime(2017,11,14)"
   ]
  },
  {
   "cell_type": "code",
   "execution_count": null,
   "metadata": {},
   "outputs": [],
   "source": [
    "videos[(videos['video_id'] == 'j4KvrAUjn6c') & (videos['trending_date']==dt.datetime(2018,5,15))]"
   ]
  },
  {
   "cell_type": "markdown",
   "metadata": {},
   "source": [
    "# 행 삭제"
   ]
  },
  {
   "cell_type": "markdown",
   "metadata": {},
   "source": [
    "## dropRows_disabled(videos, column)\n",
    "#### videos[column] == True 인 데이터들의 video_id에 대한 행 모두 삭제\n",
    "#### 행 삭제 후 해당 column 삭제\n",
    "###### 같은  비디오(동일 video_id)라도 videos[column] 값이 다를 수 있음\n",
    "###### column : 'comments_disabled', 'ratings_disabled', 'video_error_or_removed'"
   ]
  },
  {
   "cell_type": "code",
   "execution_count": null,
   "metadata": {},
   "outputs": [],
   "source": [
    "plt.figure(figsize = (14,8))\n",
    "plt.subplots_adjust(wspace = 0.2, hspace = 0.4,top = 0.9)\n",
    "\n",
    "plt.subplot(2,2,1)\n",
    "g = sns.countplot(x='comments_disabled', data=videos)\n",
    "g.set_title(\"Comments Disabled\", fontsize=16)\n",
    "\n",
    "plt.subplot(2,2,2)\n",
    "g1 = sns.countplot(x='ratings_disabled', data=videos)\n",
    "g1.set_title(\"Rating Disabled\", fontsize=16)\n",
    "\n",
    "plt.subplot(2,2,3)\n",
    "g2 = sns.countplot(x='video_error_or_removed', data=videos)\n",
    "g2.set_title(\"Video Error or Removed\", fontsize=16)\n",
    "plt.show()"
   ]
  },
  {
   "cell_type": "code",
   "execution_count": null,
   "metadata": {},
   "outputs": [],
   "source": [
    "videos[videos['comments_disabled']==True]"
   ]
  },
  {
   "cell_type": "code",
   "execution_count": null,
   "metadata": {},
   "outputs": [],
   "source": [
    "videos[videos['ratings_disabled']==True]"
   ]
  },
  {
   "cell_type": "code",
   "execution_count": null,
   "metadata": {},
   "outputs": [],
   "source": [
    "videos[videos['video_error_or_removed']==True]"
   ]
  },
  {
   "cell_type": "code",
   "execution_count": null,
   "metadata": {},
   "outputs": [],
   "source": [
    "videos['comments_disabled'].value_counts()"
   ]
  },
  {
   "cell_type": "code",
   "execution_count": null,
   "metadata": {},
   "outputs": [],
   "source": [
    "refinement.dropRows_disabled(videos, 'comments_disabled')"
   ]
  },
  {
   "cell_type": "code",
   "execution_count": null,
   "metadata": {},
   "outputs": [],
   "source": [
    "len(videos)"
   ]
  },
  {
   "cell_type": "code",
   "execution_count": null,
   "metadata": {},
   "outputs": [],
   "source": [
    "# print('comments_disabled 삭제 전')\n",
    "# print(videos['comments_disabled'].value_counts())\n",
    "# before_len = len(videos)\n",
    "# print(before_len)\n",
    "# rf.dropRows_disabled(videos,'comments_disabled')\n",
    "# print('comments_disabled 삭제 후')\n",
    "# # print(videos['comments_disabled'].value_counts()) # 열이 삭제 되어 실행시 에러\n",
    "# after_len = len(videos)\n",
    "# print(after_len,'\\n')\n",
    "# print('삭제된 행 수 : ',before_len - after_len)"
   ]
  },
  {
   "cell_type": "code",
   "execution_count": null,
   "metadata": {},
   "outputs": [],
   "source": [
    "refinement.dropRows_disabled(videos,'comments_disabled')"
   ]
  },
  {
   "cell_type": "code",
   "execution_count": null,
   "metadata": {},
   "outputs": [],
   "source": [
    "print('ratings_disabled 삭제 전')\n",
    "print(videos['ratings_disabled'].value_counts())\n",
    "before_len = len(videos)\n",
    "print(before_len)\n",
    "refinement.dropRows_disabled(videos,'ratings_disabled')\n",
    "print('ratings_disabled 삭제 후')\n",
    "# print(videos['ratings_disabled'].value_counts())\n",
    "after_len = len(videos)\n",
    "print(after_len,'\\n')\n",
    "print('삭제된 행 수 : ',before_len - after_len)"
   ]
  },
  {
   "cell_type": "code",
   "execution_count": null,
   "metadata": {},
   "outputs": [],
   "source": [
    "print('video_error_or_removed 삭제 전')\n",
    "print(videos['video_error_or_removed'].value_counts())\n",
    "before_len = len(videos)\n",
    "print(before_len)\n",
    "refinement.dropRows_disabled(videos,'video_error_or_removed')\n",
    "print('video_error_or_removed 삭제 후')\n",
    "# print(videos['video_error_or_removed'].value_counts())\n",
    "after_len = len(videos)\n",
    "print(after_len,'\\n')\n",
    "print('삭제된 행 수 : ',before_len - after_len)"
   ]
  },
  {
   "cell_type": "markdown",
   "metadata": {},
   "source": [
    "## dropRows_dates(videos, column, start, end)\n",
    "#### videos[column]이 [start,end]에 속하지 않은 행 삭제\n",
    "###### column : 'publish_time', 'trending_date'\n",
    "###### start, end : datetime.date() type (ex. datetime.date(2018, 11, 03))"
   ]
  },
  {
   "cell_type": "code",
   "execution_count": null,
   "metadata": {},
   "outputs": [],
   "source": [
    "videos.sort_values(by='publish_time', ascending=1)"
   ]
  },
  {
   "cell_type": "code",
   "execution_count": null,
   "metadata": {},
   "outputs": [],
   "source": [
    "print('dropRows_dates() 실행 전')\n",
    "print('min_trending_date',min(videos['trending_date']))\n",
    "print('max_trending_date',max(videos['trending_date']))\n",
    "print('min_publish_time',min(videos['publish_time']))\n",
    "print('max_publish_time',max(videos['publish_time']))"
   ]
  },
  {
   "cell_type": "code",
   "execution_count": null,
   "metadata": {},
   "outputs": [],
   "source": [
    "print('삭제 전 행 수', len(videos))\n",
    "refinement.dropRows_dates(videos, 'publish_time', \n",
    "                  min_trending_date, max_trending_date)\n",
    "print('삭제 후 행 수', len(videos))"
   ]
  },
  {
   "cell_type": "code",
   "execution_count": null,
   "metadata": {},
   "outputs": [],
   "source": [
    "print('dropRows_dates() 실행 후')\n",
    "min_trending_date = min(videos['trending_date'])\n",
    "max_trending_date = max(videos['trending_date'])\n",
    "print('min_trending_date',min_trending_date)\n",
    "print('max_trending_date',max_trending_date)\n",
    "min_publish_time = min(videos['publish_time'])\n",
    "max_publish_time = max(videos['publish_time'])\n",
    "print('min_publish_time',min_publish_time)\n",
    "print('max_publish_time',max_publish_time)"
   ]
  },
  {
   "cell_type": "code",
   "execution_count": null,
   "metadata": {},
   "outputs": [],
   "source": [
    "refinement.dropRows_dates(videos, 'publish_time', Timestamp('2017-11-01'), Timestamp('2017-'))\n",
    "videos.sort_values(by='publish_time', ascending=1)"
   ]
  },
  {
   "cell_type": "code",
   "execution_count": null,
   "metadata": {},
   "outputs": [],
   "source": [
    "max(videos['trending_date']) > dt.date(2017,11,12)"
   ]
  },
  {
   "cell_type": "markdown",
   "metadata": {},
   "source": [
    "# 열 삭제"
   ]
  },
  {
   "cell_type": "markdown",
   "metadata": {},
   "source": [
    "## dropColumns(videos, column)\n",
    "#### videos[column] 삭제\n",
    "###### column : 'tags', 'description'"
   ]
  },
  {
   "cell_type": "code",
   "execution_count": null,
   "metadata": {},
   "outputs": [],
   "source": [
    "before_columns = list(videos.columns)\n",
    "print('열 삭제 전 columns :',before_columns)"
   ]
  },
  {
   "cell_type": "code",
   "execution_count": null,
   "metadata": {},
   "outputs": [],
   "source": [
    "print('tags' in videos.columns)\n",
    "print('tags 삭제')\n",
    "rf.dropColumns(videos, 'tags')\n",
    "print('tags' in videos.columns)\n",
    "print()\n",
    "print('tags 삭제')\n",
    "rf.dropColumns(videos, 'tags')"
   ]
  },
  {
   "cell_type": "code",
   "execution_count": null,
   "metadata": {},
   "outputs": [],
   "source": [
    "print('description' in videos.columns)\n",
    "print('description 삭제')\n",
    "rf.dropColumns(videos,'description')\n",
    "print('description' in videos.columns)\n",
    "print()\n",
    "print('description 삭제')\n",
    "rf.dropColumns(videos,'description')"
   ]
  },
  {
   "cell_type": "code",
   "execution_count": null,
   "metadata": {},
   "outputs": [],
   "source": [
    "after_columns = list(videos.columns)\n",
    "print('열 삭제 후 columns :',after_columns)"
   ]
  },
  {
   "cell_type": "code",
   "execution_count": null,
   "metadata": {},
   "outputs": [],
   "source": []
  }
 ],
 "metadata": {
  "kernelspec": {
   "display_name": "Python 3",
   "language": "python",
   "name": "python3"
  },
  "language_info": {
   "codemirror_mode": {
    "name": "ipython",
    "version": 3
   },
   "file_extension": ".py",
   "mimetype": "text/x-python",
   "name": "python",
   "nbconvert_exporter": "python",
   "pygments_lexer": "ipython3",
   "version": "3.6.5"
  }
 },
 "nbformat": 4,
 "nbformat_minor": 2
}
