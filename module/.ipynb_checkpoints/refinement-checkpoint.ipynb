{
 "cells": [
  {
   "cell_type": "code",
   "execution_count": 1,
   "metadata": {},
   "outputs": [
    {
     "name": "stdout",
     "output_type": "stream",
     "text": [
      "초기 data 수 40724\n"
     ]
    }
   ],
   "source": [
    "import pandas as pd\n",
    "import numpy as np\n",
    "import datetime as dt\n",
    "import refinement as rf\n",
    "videos= pd.read_csv('../youtube-new/FRvideos.csv')\n",
    "print('초기 data 수', len(videos))"
   ]
  },
  {
   "cell_type": "markdown",
   "metadata": {},
   "source": [
    "# 형변환"
   ]
  },
  {
   "cell_type": "markdown",
   "metadata": {},
   "source": [
    "## retypeDate(videos)\n",
    "#### videos의 'publish_time'과 'trending_date'를 datetime.date()형태로 바꿔줌"
   ]
  },
  {
   "cell_type": "code",
   "execution_count": 2,
   "metadata": {},
   "outputs": [
    {
     "name": "stdout",
     "output_type": "stream",
     "text": [
      "2017-11-13T17:32:55.000Z\n"
     ]
    },
    {
     "data": {
      "text/plain": [
       "str"
      ]
     },
     "execution_count": 2,
     "metadata": {},
     "output_type": "execute_result"
    }
   ],
   "source": [
    "print(videos['publish_time'][0])\n",
    "type(videos['publish_time'][0])"
   ]
  },
  {
   "cell_type": "code",
   "execution_count": 3,
   "metadata": {},
   "outputs": [
    {
     "name": "stdout",
     "output_type": "stream",
     "text": [
      "17.14.11\n"
     ]
    },
    {
     "data": {
      "text/plain": [
       "str"
      ]
     },
     "execution_count": 3,
     "metadata": {},
     "output_type": "execute_result"
    }
   ],
   "source": [
    "print(videos['trending_date'][0]) # yy.dd.mm\n",
    "type(videos['trending_date'][0])"
   ]
  },
  {
   "cell_type": "code",
   "execution_count": 4,
   "metadata": {},
   "outputs": [],
   "source": [
    "rf.retypeDate(videos)"
   ]
  },
  {
   "cell_type": "code",
   "execution_count": 5,
   "metadata": {},
   "outputs": [
    {
     "name": "stdout",
     "output_type": "stream",
     "text": [
      "2017-11-13\n"
     ]
    },
    {
     "data": {
      "text/plain": [
       "datetime.date"
      ]
     },
     "execution_count": 5,
     "metadata": {},
     "output_type": "execute_result"
    }
   ],
   "source": [
    "print(videos['publish_time'][0])\n",
    "type(videos['publish_time'][0])"
   ]
  },
  {
   "cell_type": "code",
   "execution_count": 6,
   "metadata": {},
   "outputs": [
    {
     "name": "stdout",
     "output_type": "stream",
     "text": [
      "2017-11-14\n"
     ]
    },
    {
     "data": {
      "text/plain": [
       "datetime.date"
      ]
     },
     "execution_count": 6,
     "metadata": {},
     "output_type": "execute_result"
    }
   ],
   "source": [
    "print(videos['trending_date'][0])\n",
    "type(videos['trending_date'][0])"
   ]
  },
  {
   "cell_type": "markdown",
   "metadata": {},
   "source": [
    "# 행 삭제"
   ]
  },
  {
   "cell_type": "markdown",
   "metadata": {},
   "source": [
    "## dropRows_disabled(videos, column)\n",
    "#### videos[column] == True 인 데이터들의 video_id에 대한 행 모두 삭제\n",
    "#### 행 삭제 후 해당 column 삭제\n",
    "###### 같은  비디오(동일 video_id)라도 videos[column] 값이 다를 수 있음\n",
    "###### column : 'comments_disabled', 'ratings_disabled', 'video_error_or_removed'"
   ]
  },
  {
   "cell_type": "code",
   "execution_count": 7,
   "metadata": {},
   "outputs": [
    {
     "name": "stdout",
     "output_type": "stream",
     "text": [
      "comments_disabled 삭제 전\n",
      "False    39835\n",
      "True       889\n",
      "Name: comments_disabled, dtype: int64\n",
      "40724\n",
      "comments_disabled 삭제 후\n",
      "39819 \n",
      "\n",
      "삭제된 행 수 :  905\n"
     ]
    }
   ],
   "source": [
    "print('comments_disabled 삭제 전')\n",
    "print(videos['comments_disabled'].value_counts())\n",
    "before_len = len(videos)\n",
    "print(before_len)\n",
    "rf.dropRows_disabled(videos,'comments_disabled')\n",
    "print('comments_disabled 삭제 후')\n",
    "# print(videos['comments_disabled'].value_counts()) # 열이 삭제 되어 실행시 에러\n",
    "after_len = len(videos)\n",
    "print(after_len,'\\n')\n",
    "print('삭제된 행 수 : ',before_len - after_len)"
   ]
  },
  {
   "cell_type": "code",
   "execution_count": 8,
   "metadata": {},
   "outputs": [
    {
     "name": "stdout",
     "output_type": "stream",
     "text": [
      "comments_disabled 이 존재하지 않음\n"
     ]
    }
   ],
   "source": [
    "rf.dropRows_disabled(videos,'comments_disabled')"
   ]
  },
  {
   "cell_type": "code",
   "execution_count": 9,
   "metadata": {},
   "outputs": [
    {
     "name": "stdout",
     "output_type": "stream",
     "text": [
      "ratings_disabled 삭제 전\n",
      "False    39498\n",
      "True       321\n",
      "Name: ratings_disabled, dtype: int64\n",
      "39819\n",
      "ratings_disabled 삭제 후\n",
      "39490 \n",
      "\n",
      "삭제된 행 수 :  329\n"
     ]
    }
   ],
   "source": [
    "print('ratings_disabled 삭제 전')\n",
    "print(videos['ratings_disabled'].value_counts())\n",
    "before_len = len(videos)\n",
    "print(before_len)\n",
    "rf.dropRows_disabled(videos,'ratings_disabled')\n",
    "print('ratings_disabled 삭제 후')\n",
    "# print(videos['ratings_disabled'].value_counts()) # 열이 삭제 되어 실행시 에러\n",
    "after_len = len(videos)\n",
    "print(after_len,'\\n')\n",
    "print('삭제된 행 수 : ',before_len - after_len)"
   ]
  },
  {
   "cell_type": "code",
   "execution_count": 10,
   "metadata": {},
   "outputs": [
    {
     "name": "stdout",
     "output_type": "stream",
     "text": [
      "video_error_or_removed 삭제 전\n",
      "False    39468\n",
      "True        22\n",
      "Name: video_error_or_removed, dtype: int64\n",
      "39490\n",
      "video_error_or_removed 삭제 후\n",
      "39463 \n",
      "\n",
      "삭제된 행 수 :  27\n"
     ]
    }
   ],
   "source": [
    "print('video_error_or_removed 삭제 전')\n",
    "print(videos['video_error_or_removed'].value_counts())\n",
    "before_len = len(videos)\n",
    "print(before_len)\n",
    "rf.dropRows_disabled(videos,'video_error_or_removed')\n",
    "print('video_error_or_removed 삭제 후')\n",
    "# print(videos['video_error_or_removed'].value_counts()) # 열이 삭제 되어 실행시 에러\n",
    "after_len = len(videos)\n",
    "print(after_len,'\\n')\n",
    "print('삭제된 행 수 : ',before_len - after_len)"
   ]
  },
  {
   "cell_type": "markdown",
   "metadata": {},
   "source": [
    "## dropRows_dates(videos, column, start, end)\n",
    "#### videos[column]이 [start,end]에 속하지 않은 행 삭제\n",
    "###### column : 'publish_time', 'trending_date'\n",
    "###### start, end : datetime.date() type (ex. datetime.date(2018, 11, 03))"
   ]
  },
  {
   "cell_type": "code",
   "execution_count": 11,
   "metadata": {},
   "outputs": [
    {
     "name": "stdout",
     "output_type": "stream",
     "text": [
      "min_trending_date 2017-11-14\n",
      "max_trending_date 2018-06-14\n"
     ]
    }
   ],
   "source": [
    "min_trending_date = min(videos['trending_date'])\n",
    "max_trending_date = max(videos['trending_date'])\n",
    "print('min_trending_date',min_trending_date)\n",
    "print('max_trending_date',max_trending_date)"
   ]
  },
  {
   "cell_type": "code",
   "execution_count": 12,
   "metadata": {},
   "outputs": [
    {
     "name": "stdout",
     "output_type": "stream",
     "text": [
      "min_publish_time 2009-03-22\n",
      "max_publish_time 2018-06-14\n"
     ]
    }
   ],
   "source": [
    "min_publish_time = min(videos['publish_time'])\n",
    "max_publish_time = max(videos['publish_time'])\n",
    "print('min_publish_time',min_publish_time)\n",
    "print('max_publish_time',max_publish_time)"
   ]
  },
  {
   "cell_type": "code",
   "execution_count": 13,
   "metadata": {},
   "outputs": [
    {
     "name": "stdout",
     "output_type": "stream",
     "text": [
      "삭제 전 행 수 39463\n",
      "삭제 후 행 수 39121\n"
     ]
    }
   ],
   "source": [
    "before_len = len(videos)\n",
    "print('삭제 전 행 수', before_len)\n",
    "rf.dropRows_dates(videos, 'publish_time', min_trending_date, max_trending_date)\n",
    "after_len = len(videos)\n",
    "print('삭제 후 행 수', after_len)"
   ]
  },
  {
   "cell_type": "code",
   "execution_count": 14,
   "metadata": {},
   "outputs": [
    {
     "name": "stdout",
     "output_type": "stream",
     "text": [
      "min_trending_date 2017-11-15\n",
      "max_trending_date 2018-06-14\n"
     ]
    }
   ],
   "source": [
    "min_trending_date = min(videos['trending_date'])\n",
    "max_trending_date = max(videos['trending_date'])\n",
    "print('min_trending_date',min_trending_date)\n",
    "print('max_trending_date',max_trending_date)"
   ]
  },
  {
   "cell_type": "code",
   "execution_count": 15,
   "metadata": {},
   "outputs": [
    {
     "name": "stdout",
     "output_type": "stream",
     "text": [
      "min_publish_time 2017-11-14\n",
      "max_publish_time 2018-06-14\n"
     ]
    }
   ],
   "source": [
    "min_publish_time = min(videos['publish_time'])\n",
    "max_publish_time = max(videos['publish_time'])\n",
    "print('min_publish_time',min_publish_time)\n",
    "print('max_publish_time',max_publish_time)"
   ]
  },
  {
   "cell_type": "code",
   "execution_count": 16,
   "metadata": {},
   "outputs": [
    {
     "name": "stdout",
     "output_type": "stream",
     "text": [
      "videos[ views ]이 datetime.date 형식이 아님\n"
     ]
    }
   ],
   "source": [
    "rf.dropRows_dates(videos, 'views', min_trending_date, max_trending_date)"
   ]
  },
  {
   "cell_type": "markdown",
   "metadata": {},
   "source": [
    "# 열 삭제"
   ]
  },
  {
   "cell_type": "markdown",
   "metadata": {},
   "source": [
    "## dropColumns(videos, column)\n",
    "#### videos[column] 삭제\n",
    "###### column : 'tags', 'description'"
   ]
  },
  {
   "cell_type": "code",
   "execution_count": 17,
   "metadata": {},
   "outputs": [
    {
     "name": "stdout",
     "output_type": "stream",
     "text": [
      "열 삭제 전 columns : ['video_id', 'trending_date', 'title', 'channel_title', 'category_id', 'publish_time', 'tags', 'views', 'likes', 'dislikes', 'comment_count', 'thumbnail_link', 'description']\n",
      "True\n",
      "True\n",
      "\n",
      "tags 삭제\n",
      "description 삭제\n",
      "\n",
      "열 삭제 후 columns : ['video_id', 'trending_date', 'title', 'channel_title', 'category_id', 'publish_time', 'views', 'likes', 'dislikes', 'comment_count', 'thumbnail_link'] \n",
      "\n",
      "False\n",
      "False\n"
     ]
    }
   ],
   "source": [
    "before_columns = list(videos.columns)\n",
    "print('열 삭제 전 columns :',before_columns)\n",
    "print('tags' in before_columns)\n",
    "print('description' in before_columns)\n",
    "print()\n",
    "\n",
    "print('tags 삭제')\n",
    "rf.dropColumns(videos, 'tags')\n",
    "print('description 삭제')\n",
    "rf.dropColumns(videos,'description')\n",
    "print()\n",
    "\n",
    "after_columns = list(videos.columns)\n",
    "print('열 삭제 후 columns :',after_columns, '\\n')\n",
    "print('tags' in after_columns)\n",
    "print('description' in after_columns)"
   ]
  },
  {
   "cell_type": "code",
   "execution_count": 18,
   "metadata": {},
   "outputs": [
    {
     "name": "stdout",
     "output_type": "stream",
     "text": [
      "tags 삭제\n",
      "tags 이 존재하지 않음\n",
      "description 삭제\n",
      "description 이 존재하지 않음\n"
     ]
    }
   ],
   "source": [
    "print('tags 삭제')\n",
    "rf.dropColumns(videos, 'tags')\n",
    "print('description 삭제')\n",
    "rf.dropColumns(videos,'description')"
   ]
  }
 ],
 "metadata": {
  "kernelspec": {
   "display_name": "Python 3",
   "language": "python",
   "name": "python3"
  },
  "language_info": {
   "codemirror_mode": {
    "name": "ipython",
    "version": 3
   },
   "file_extension": ".py",
   "mimetype": "text/x-python",
   "name": "python",
   "nbconvert_exporter": "python",
   "pygments_lexer": "ipython3",
   "version": "3.6.5"
  }
 },
 "nbformat": 4,
 "nbformat_minor": 2
}
